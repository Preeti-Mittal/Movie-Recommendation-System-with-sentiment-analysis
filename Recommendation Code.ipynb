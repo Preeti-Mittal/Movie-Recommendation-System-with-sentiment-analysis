{
 "cells": [
  {
   "cell_type": "code",
   "execution_count": 14,
   "metadata": {},
   "outputs": [],
   "source": [
    "import os\n",
    "import pandas as pd\n",
    "from sklearn.feature_extraction.text import TfidfVectorizer\n",
    "from sklearn.metrics.pairwise import sigmoid_kernel"
   ]
  },
  {
   "cell_type": "code",
   "execution_count": 7,
   "metadata": {},
   "outputs": [],
   "source": [
    "os.chdir(\"E:\\Data Science Project\\Movie Recommendation System with sentiment analysis-Project 3\")"
   ]
  },
  {
   "cell_type": "code",
   "execution_count": 8,
   "metadata": {},
   "outputs": [],
   "source": [
    "main_data = pd.read_csv(\"main_data.csv\")"
   ]
  },
  {
   "cell_type": "code",
   "execution_count": 9,
   "metadata": {},
   "outputs": [
    {
     "data": {
      "text/html": [
       "<div>\n",
       "<style scoped>\n",
       "    .dataframe tbody tr th:only-of-type {\n",
       "        vertical-align: middle;\n",
       "    }\n",
       "\n",
       "    .dataframe tbody tr th {\n",
       "        vertical-align: top;\n",
       "    }\n",
       "\n",
       "    .dataframe thead th {\n",
       "        text-align: right;\n",
       "    }\n",
       "</style>\n",
       "<table border=\"1\" class=\"dataframe\">\n",
       "  <thead>\n",
       "    <tr style=\"text-align: right;\">\n",
       "      <th></th>\n",
       "      <th>director_name</th>\n",
       "      <th>actor_1_name</th>\n",
       "      <th>actor_2_name</th>\n",
       "      <th>actor_3_name</th>\n",
       "      <th>genres</th>\n",
       "      <th>movie_title</th>\n",
       "      <th>comb</th>\n",
       "    </tr>\n",
       "  </thead>\n",
       "  <tbody>\n",
       "    <tr>\n",
       "      <td>0</td>\n",
       "      <td>James Cameron</td>\n",
       "      <td>CCH Pounder</td>\n",
       "      <td>Joel David Moore</td>\n",
       "      <td>Wes Studi</td>\n",
       "      <td>Action|Adventure|Fantasy|Sci-Fi</td>\n",
       "      <td>avatar</td>\n",
       "      <td>CCH Pounder Joel David Moore Wes Studi James C...</td>\n",
       "    </tr>\n",
       "    <tr>\n",
       "      <td>1</td>\n",
       "      <td>Gore Verbinski</td>\n",
       "      <td>Johnny Depp</td>\n",
       "      <td>Orlando Bloom</td>\n",
       "      <td>Jack Davenport</td>\n",
       "      <td>Action|Adventure|Fantasy</td>\n",
       "      <td>pirates of the caribbean: at world's end</td>\n",
       "      <td>Johnny Depp Orlando Bloom Jack Davenport Gore ...</td>\n",
       "    </tr>\n",
       "    <tr>\n",
       "      <td>2</td>\n",
       "      <td>Sam Mendes</td>\n",
       "      <td>Christoph Waltz</td>\n",
       "      <td>Rory Kinnear</td>\n",
       "      <td>Stephanie Sigman</td>\n",
       "      <td>Action|Adventure|Thriller</td>\n",
       "      <td>spectre</td>\n",
       "      <td>Christoph Waltz Rory Kinnear Stephanie Sigman ...</td>\n",
       "    </tr>\n",
       "    <tr>\n",
       "      <td>3</td>\n",
       "      <td>Christopher Nolan</td>\n",
       "      <td>Tom Hardy</td>\n",
       "      <td>Christian Bale</td>\n",
       "      <td>Joseph Gordon-Levitt</td>\n",
       "      <td>Action|Thriller</td>\n",
       "      <td>the dark knight rises</td>\n",
       "      <td>Tom Hardy Christian Bale Joseph Gordon-Levitt ...</td>\n",
       "    </tr>\n",
       "    <tr>\n",
       "      <td>4</td>\n",
       "      <td>Doug Walker</td>\n",
       "      <td>Doug Walker</td>\n",
       "      <td>Rob Walker</td>\n",
       "      <td>Unknown</td>\n",
       "      <td>Documentary</td>\n",
       "      <td>star wars: episode vii - the force awakens    ...</td>\n",
       "      <td>Doug Walker Rob Walker Unknown Doug Walker Doc...</td>\n",
       "    </tr>\n",
       "    <tr>\n",
       "      <td>...</td>\n",
       "      <td>...</td>\n",
       "      <td>...</td>\n",
       "      <td>...</td>\n",
       "      <td>...</td>\n",
       "      <td>...</td>\n",
       "      <td>...</td>\n",
       "      <td>...</td>\n",
       "    </tr>\n",
       "    <tr>\n",
       "      <td>6056</td>\n",
       "      <td>Paul W. S. Anderson</td>\n",
       "      <td>Milla Jovovich</td>\n",
       "      <td>Tony Jaa</td>\n",
       "      <td>Tip \"T.I.\" Harris</td>\n",
       "      <td>Fantasy Action Adventure</td>\n",
       "      <td>monster hunter</td>\n",
       "      <td>Milla Jovovich Tony Jaa Tip \"T.I.\" Harris Paul...</td>\n",
       "    </tr>\n",
       "    <tr>\n",
       "      <td>6057</td>\n",
       "      <td>Regina King</td>\n",
       "      <td>Kingsley Ben-Adir</td>\n",
       "      <td>Eli Goree</td>\n",
       "      <td>Aldis Hodge</td>\n",
       "      <td>Drama</td>\n",
       "      <td>one night in miami</td>\n",
       "      <td>Kingsley Ben-Adir Eli Goree Aldis Hodge Regina...</td>\n",
       "    </tr>\n",
       "    <tr>\n",
       "      <td>6058</td>\n",
       "      <td>Emerald Fennell</td>\n",
       "      <td>Carey Mulligan</td>\n",
       "      <td>Bo Burnham</td>\n",
       "      <td>Alison Brie</td>\n",
       "      <td>Thriller Crime Drama</td>\n",
       "      <td>promising young woman</td>\n",
       "      <td>Carey Mulligan Bo Burnham Alison Brie Emerald ...</td>\n",
       "    </tr>\n",
       "    <tr>\n",
       "      <td>6059</td>\n",
       "      <td>Eugene Ashe</td>\n",
       "      <td>Tessa Thompson</td>\n",
       "      <td>Nnamdi Asomugha</td>\n",
       "      <td>Ryan Michelle Bathe</td>\n",
       "      <td>Drama</td>\n",
       "      <td>sylvie's love</td>\n",
       "      <td>Tessa Thompson Nnamdi Asomugha Ryan Michelle B...</td>\n",
       "    </tr>\n",
       "    <tr>\n",
       "      <td>6060</td>\n",
       "      <td>Kornél Mundruczó</td>\n",
       "      <td>Vanessa Kirby</td>\n",
       "      <td>Shia LaBeouf</td>\n",
       "      <td>Molly Parker</td>\n",
       "      <td>Drama</td>\n",
       "      <td>pieces of a woman</td>\n",
       "      <td>Vanessa Kirby Shia LaBeouf Molly Parker Kornél...</td>\n",
       "    </tr>\n",
       "  </tbody>\n",
       "</table>\n",
       "<p>6061 rows × 7 columns</p>\n",
       "</div>"
      ],
      "text/plain": [
       "            director_name       actor_1_name      actor_2_name  \\\n",
       "0           James Cameron        CCH Pounder  Joel David Moore   \n",
       "1          Gore Verbinski        Johnny Depp     Orlando Bloom   \n",
       "2              Sam Mendes    Christoph Waltz      Rory Kinnear   \n",
       "3       Christopher Nolan          Tom Hardy    Christian Bale   \n",
       "4             Doug Walker        Doug Walker        Rob Walker   \n",
       "...                   ...                ...               ...   \n",
       "6056  Paul W. S. Anderson     Milla Jovovich          Tony Jaa   \n",
       "6057          Regina King  Kingsley Ben-Adir         Eli Goree   \n",
       "6058      Emerald Fennell     Carey Mulligan        Bo Burnham   \n",
       "6059          Eugene Ashe     Tessa Thompson   Nnamdi Asomugha   \n",
       "6060     Kornél Mundruczó      Vanessa Kirby      Shia LaBeouf   \n",
       "\n",
       "              actor_3_name                           genres  \\\n",
       "0                Wes Studi  Action|Adventure|Fantasy|Sci-Fi   \n",
       "1           Jack Davenport         Action|Adventure|Fantasy   \n",
       "2         Stephanie Sigman        Action|Adventure|Thriller   \n",
       "3     Joseph Gordon-Levitt                  Action|Thriller   \n",
       "4                  Unknown                      Documentary   \n",
       "...                    ...                              ...   \n",
       "6056     Tip \"T.I.\" Harris         Fantasy Action Adventure   \n",
       "6057           Aldis Hodge                            Drama   \n",
       "6058           Alison Brie             Thriller Crime Drama   \n",
       "6059   Ryan Michelle Bathe                            Drama   \n",
       "6060          Molly Parker                            Drama   \n",
       "\n",
       "                                            movie_title  \\\n",
       "0                                                avatar   \n",
       "1              pirates of the caribbean: at world's end   \n",
       "2                                               spectre   \n",
       "3                                 the dark knight rises   \n",
       "4     star wars: episode vii - the force awakens    ...   \n",
       "...                                                 ...   \n",
       "6056                                     monster hunter   \n",
       "6057                                 one night in miami   \n",
       "6058                              promising young woman   \n",
       "6059                                      sylvie's love   \n",
       "6060                                  pieces of a woman   \n",
       "\n",
       "                                                   comb  \n",
       "0     CCH Pounder Joel David Moore Wes Studi James C...  \n",
       "1     Johnny Depp Orlando Bloom Jack Davenport Gore ...  \n",
       "2     Christoph Waltz Rory Kinnear Stephanie Sigman ...  \n",
       "3     Tom Hardy Christian Bale Joseph Gordon-Levitt ...  \n",
       "4     Doug Walker Rob Walker Unknown Doug Walker Doc...  \n",
       "...                                                 ...  \n",
       "6056  Milla Jovovich Tony Jaa Tip \"T.I.\" Harris Paul...  \n",
       "6057  Kingsley Ben-Adir Eli Goree Aldis Hodge Regina...  \n",
       "6058  Carey Mulligan Bo Burnham Alison Brie Emerald ...  \n",
       "6059  Tessa Thompson Nnamdi Asomugha Ryan Michelle B...  \n",
       "6060  Vanessa Kirby Shia LaBeouf Molly Parker Kornél...  \n",
       "\n",
       "[6061 rows x 7 columns]"
      ]
     },
     "execution_count": 9,
     "metadata": {},
     "output_type": "execute_result"
    }
   ],
   "source": [
    "main_data"
   ]
  },
  {
   "cell_type": "code",
   "execution_count": 10,
   "metadata": {},
   "outputs": [],
   "source": [
    "tfv = TfidfVectorizer(min_df=3, max_features = None,\n",
    "                     strip_accents='unicode', analyzer='word', token_pattern = r'\\w{1,}',\n",
    "                      ngram_range=(1,3),\n",
    "                      stop_words='english')\n",
    "\n",
    "# Filling NaNs with empty strings\n",
    "main_data['comb']=main_data['comb'].fillna('')"
   ]
  },
  {
   "cell_type": "code",
   "execution_count": 11,
   "metadata": {},
   "outputs": [],
   "source": [
    "# Fitting the Tf-Idf on the \"comb\" text\n",
    "tfv_matrix = tfv.fit_transform(main_data['comb'])"
   ]
  },
  {
   "cell_type": "code",
   "execution_count": 12,
   "metadata": {},
   "outputs": [
    {
     "data": {
      "text/plain": [
       "<6061x7841 sparse matrix of type '<class 'numpy.float64'>'\n",
       "\twith 96976 stored elements in Compressed Sparse Row format>"
      ]
     },
     "execution_count": 12,
     "metadata": {},
     "output_type": "execute_result"
    }
   ],
   "source": [
    "tfv_matrix"
   ]
  },
  {
   "cell_type": "code",
   "execution_count": 13,
   "metadata": {},
   "outputs": [
    {
     "data": {
      "text/plain": [
       "(6061, 7841)"
      ]
     },
     "execution_count": 13,
     "metadata": {},
     "output_type": "execute_result"
    }
   ],
   "source": [
    "tfv_matrix.shape"
   ]
  },
  {
   "cell_type": "code",
   "execution_count": 15,
   "metadata": {},
   "outputs": [],
   "source": [
    "# Computing the sigmoid kernel\n",
    "sig = sigmoid_kernel(tfv_matrix, tfv_matrix)"
   ]
  },
  {
   "cell_type": "code",
   "execution_count": 16,
   "metadata": {},
   "outputs": [
    {
     "data": {
      "text/plain": [
       "array([0.76164771, 0.76159806, 0.76159573, ..., 0.76159416, 0.76159416,\n",
       "       0.76159416])"
      ]
     },
     "execution_count": 16,
     "metadata": {},
     "output_type": "execute_result"
    }
   ],
   "source": [
    "sig[0]"
   ]
  },
  {
   "cell_type": "code",
   "execution_count": 19,
   "metadata": {},
   "outputs": [],
   "source": [
    "# Reverse mapping of indices and movie titles\n",
    "indices = pd.Series(main_data.index, index=main_data['movie_title']).drop_duplicates()"
   ]
  },
  {
   "cell_type": "code",
   "execution_count": 20,
   "metadata": {},
   "outputs": [
    {
     "data": {
      "text/plain": [
       "movie_title\n",
       "avatar                                                       0\n",
       "pirates of the caribbean: at world's end                     1\n",
       "spectre                                                      2\n",
       "the dark knight rises                                        3\n",
       "star wars: episode vii - the force awakens                   4\n",
       "                                                          ... \n",
       "monster hunter                                            6056\n",
       "one night in miami                                        6057\n",
       "promising young woman                                     6058\n",
       "sylvie's love                                             6059\n",
       "pieces of a woman                                         6060\n",
       "Length: 6061, dtype: int64"
      ]
     },
     "execution_count": 20,
     "metadata": {},
     "output_type": "execute_result"
    }
   ],
   "source": [
    "indices"
   ]
  },
  {
   "cell_type": "code",
   "execution_count": 21,
   "metadata": {},
   "outputs": [],
   "source": [
    "# Function to get recommendation\n",
    "\n",
    "def give_rec(title, sig=sig):\n",
    "    \n",
    "    # Get the index corresponding to movie titles\n",
    "    idx = indices[title]\n",
    "    \n",
    "    # Get the pairwise similarity scores\n",
    "    sig_scores = list(enumerate(sig[idx]))\n",
    "    \n",
    "    # Sort the movies\n",
    "    sig_scores = sorted(sig_scores, key=lambda x: x[1], reverse=True)\n",
    "    \n",
    "    # Scores of 10 most similar movies\n",
    "    sig_scores = sig_scores[1:11]\n",
    "    \n",
    "    # Movie indices\n",
    "    movie_indices = [i[0] for i in sig_scores]\n",
    "    \n",
    "    # Returning top 10 most similar movies\n",
    "    return main_data['movie_title'].iloc[movie_indices]  "
   ]
  },
  {
   "cell_type": "code",
   "execution_count": 27,
   "metadata": {},
   "outputs": [
    {
     "data": {
      "text/plain": [
       "362           the three musketeers\n",
       "1373                 resident evil\n",
       "778       resident evil: afterlife\n",
       "635     resident evil: retribution\n",
       "464                        pompeii\n",
       "2626                     ong-bak 2\n",
       "636                     death race\n",
       "748                  event horizon\n",
       "554        avp: alien vs. predator\n",
       "516                        soldier\n",
       "Name: movie_title, dtype: object"
      ]
     },
     "execution_count": 27,
     "metadata": {},
     "output_type": "execute_result"
    }
   ],
   "source": [
    "# Testing our content based recommendation system\n",
    "give_rec('monster hunter')"
   ]
  },
  {
   "cell_type": "code",
   "execution_count": null,
   "metadata": {},
   "outputs": [],
   "source": []
  }
 ],
 "metadata": {
  "kernelspec": {
   "display_name": "Python 3",
   "language": "python",
   "name": "python3"
  },
  "language_info": {
   "codemirror_mode": {
    "name": "ipython",
    "version": 3
   },
   "file_extension": ".py",
   "mimetype": "text/x-python",
   "name": "python",
   "nbconvert_exporter": "python",
   "pygments_lexer": "ipython3",
   "version": "3.7.4"
  }
 },
 "nbformat": 4,
 "nbformat_minor": 2
}
